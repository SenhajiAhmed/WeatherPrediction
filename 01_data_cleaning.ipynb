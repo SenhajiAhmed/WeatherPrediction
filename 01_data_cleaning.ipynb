{
 "cells": [
  {
   "cell_type": "code",
   "execution_count": 1,
   "id": "902a8290",
   "metadata": {},
   "outputs": [
    {
     "name": "stdout",
     "output_type": "stream",
     "text": [
      "Step 1 complete: CSV loaded\n"
     ]
    }
   ],
   "source": [
    "import pandas as pd\n",
    "import numpy as np\n",
    "import os\n",
    "\n",
    "# --- Step 1: Load CSV ---\n",
    "csv_path = \"era5_data_csv/era5_full_dataset_01.csv\"\n",
    "if not os.path.exists(csv_path):\n",
    "    raise FileNotFoundError(f\"{csv_path} not found.\")\n",
    "\n",
    "df = pd.read_csv(csv_path, parse_dates=['valid_time'])\n",
    "print('Step 1 complete: CSV loaded')\n"
   ]
  },
  {
   "cell_type": "code",
   "execution_count": 2,
   "id": "e7d5bf52",
   "metadata": {},
   "outputs": [
    {
     "name": "stdout",
     "output_type": "stream",
     "text": [
      "<class 'pandas.core.frame.DataFrame'>\n",
      "RangeIndex: 1740960 entries, 0 to 1740959\n",
      "Data columns (total 12 columns):\n",
      " #   Column      Dtype         \n",
      "---  ------      -----         \n",
      " 0   valid_time  datetime64[ns]\n",
      " 1   latitude    float64       \n",
      " 2   longitude   float64       \n",
      " 3   t2m         float64       \n",
      " 4   d2m         float64       \n",
      " 5   msl         float64       \n",
      " 6   u10         float64       \n",
      " 7   v10         float64       \n",
      " 8   tcc         float64       \n",
      " 9   skt         float64       \n",
      " 10  number      int64         \n",
      " 11  expver      int64         \n",
      "dtypes: datetime64[ns](1), float64(9), int64(2)\n",
      "memory usage: 159.4 MB\n",
      "None\n",
      "  valid_time  latitude  longitude        t2m        d2m         msl       u10  \\\n",
      "0 2025-01-01      36.0      -9.80  16.260406  282.94458  102652.625 -6.966656   \n",
      "1 2025-01-01      36.0      -9.55  16.235504  283.03100  102644.875 -7.204693   \n",
      "2 2025-01-01      36.0      -9.30  16.259918  282.84155  102635.780 -7.474468   \n",
      "3 2025-01-01      36.0      -9.05  16.325836  282.79175  102628.660 -7.798199   \n",
      "4 2025-01-01      36.0      -8.80  16.305817  282.73608  102624.780 -8.059673   \n",
      "\n",
      "        v10       tcc        skt  number  expver  \n",
      "0 -2.165506  0.346802  291.06168       0       1  \n",
      "1 -1.973124  0.342514  291.18180       0       1  \n",
      "2 -1.826883  0.332245  291.25992       0       1  \n",
      "3 -1.667948  0.306000  291.36636       0       1  \n",
      "4 -1.536600  0.293991  291.53824       0       1  \n",
      "                          valid_time      latitude     longitude  \\\n",
      "count                        1740960  1.740960e+06  1.740960e+06   \n",
      "mean   2025-01-16 11:29:59.999999488  2.800000e+01 -5.425000e+00   \n",
      "min              2025-01-01 00:00:00  2.000000e+01 -9.800000e+00   \n",
      "25%              2025-01-08 17:45:00  2.400000e+01 -7.612500e+00   \n",
      "50%              2025-01-16 11:30:00  2.800000e+01 -5.425000e+00   \n",
      "75%              2025-01-24 05:15:00  3.200000e+01 -3.237500e+00   \n",
      "max              2025-01-31 23:00:00  3.600000e+01 -1.050000e+00   \n",
      "std                              NaN  4.690417e+00  2.597074e+00   \n",
      "\n",
      "                t2m           d2m           msl           u10           v10  \\\n",
      "count  1.740960e+06  1.740960e+06  1.740960e+06  1.740960e+06  1.740960e+06   \n",
      "mean   1.394314e+01  2.721270e+02  1.021579e+05 -1.476670e+00 -1.256852e+00   \n",
      "min   -1.285287e+01  2.386679e+02  1.005255e+05 -1.267294e+01 -1.650031e+01   \n",
      "25%    9.607819e+00  2.676265e+02  1.019014e+05 -3.606674e+00 -3.075996e+00   \n",
      "50%    1.420547e+01  2.708220e+02  1.021691e+05 -1.804740e+00 -1.480155e+00   \n",
      "75%    1.784976e+01  2.747095e+02  1.024199e+05  3.788743e-01  4.713042e-01   \n",
      "max    3.427090e+01  2.907351e+02  1.033373e+05  1.691143e+01  1.348461e+01   \n",
      "std    6.046605e+00  6.121588e+00  3.746276e+02  3.083607e+00  2.718117e+00   \n",
      "\n",
      "                tcc           skt     number     expver  \n",
      "count  1.740960e+06  1.740960e+06  1740960.0  1740960.0  \n",
      "mean   2.173435e-01  2.872425e+02        0.0        1.0  \n",
      "min    0.000000e+00  2.523363e+02        0.0        1.0  \n",
      "25%    0.000000e+00  2.803435e+02        0.0        1.0  \n",
      "50%    0.000000e+00  2.864507e+02        0.0        1.0  \n",
      "75%    3.433075e-01  2.922888e+02        0.0        1.0  \n",
      "max    1.000000e+00  3.182317e+02        0.0        1.0  \n",
      "std    3.471378e-01  8.948832e+00        0.0        0.0  \n",
      "Step 2 complete: inspection printed\n",
      "                          valid_time      latitude     longitude  \\\n",
      "count                        1740960  1.740960e+06  1.740960e+06   \n",
      "mean   2025-01-16 11:29:59.999999488  2.800000e+01 -5.425000e+00   \n",
      "min              2025-01-01 00:00:00  2.000000e+01 -9.800000e+00   \n",
      "25%              2025-01-08 17:45:00  2.400000e+01 -7.612500e+00   \n",
      "50%              2025-01-16 11:30:00  2.800000e+01 -5.425000e+00   \n",
      "75%              2025-01-24 05:15:00  3.200000e+01 -3.237500e+00   \n",
      "max              2025-01-31 23:00:00  3.600000e+01 -1.050000e+00   \n",
      "std                              NaN  4.690417e+00  2.597074e+00   \n",
      "\n",
      "                t2m           d2m           msl           u10           v10  \\\n",
      "count  1.740960e+06  1.740960e+06  1.740960e+06  1.740960e+06  1.740960e+06   \n",
      "mean   1.394314e+01  2.721270e+02  1.021579e+05 -1.476670e+00 -1.256852e+00   \n",
      "min   -1.285287e+01  2.386679e+02  1.005255e+05 -1.267294e+01 -1.650031e+01   \n",
      "25%    9.607819e+00  2.676265e+02  1.019014e+05 -3.606674e+00 -3.075996e+00   \n",
      "50%    1.420547e+01  2.708220e+02  1.021691e+05 -1.804740e+00 -1.480155e+00   \n",
      "75%    1.784976e+01  2.747095e+02  1.024199e+05  3.788743e-01  4.713042e-01   \n",
      "max    3.427090e+01  2.907351e+02  1.033373e+05  1.691143e+01  1.348461e+01   \n",
      "std    6.046605e+00  6.121588e+00  3.746276e+02  3.083607e+00  2.718117e+00   \n",
      "\n",
      "                tcc           skt     number     expver  \n",
      "count  1.740960e+06  1.740960e+06  1740960.0  1740960.0  \n",
      "mean   2.173435e-01  2.872425e+02        0.0        1.0  \n",
      "min    0.000000e+00  2.523363e+02        0.0        1.0  \n",
      "25%    0.000000e+00  2.803435e+02        0.0        1.0  \n",
      "50%    0.000000e+00  2.864507e+02        0.0        1.0  \n",
      "75%    3.433075e-01  2.922888e+02        0.0        1.0  \n",
      "max    1.000000e+00  3.182317e+02        0.0        1.0  \n",
      "std    3.471378e-01  8.948832e+00        0.0        0.0  \n",
      "Step 2 complete: inspection printed\n"
     ]
    }
   ],
   "source": [
    "# --- Step 2: Inspect columns and basic info ---\n",
    "print(df.info())\n",
    "print(df.head())\n",
    "print(df.describe())\n",
    "print('Step 2 complete: inspection printed')\n"
   ]
  },
  {
   "cell_type": "code",
   "execution_count": 3,
   "id": "66ef727f",
   "metadata": {},
   "outputs": [
    {
     "name": "stdout",
     "output_type": "stream",
     "text": [
      "Step 3 complete: valid_time is now DatetimeIndex\n"
     ]
    }
   ],
   "source": [
    "# --- Step 3: Set time index for interpolation ---\n",
    "df = df.sort_values('valid_time')\n",
    "df.set_index('valid_time', inplace=True)\n",
    "print('Step 3 complete: valid_time is now DatetimeIndex')\n"
   ]
  },
  {
   "cell_type": "code",
   "execution_count": 4,
   "id": "80a24a8a",
   "metadata": {},
   "outputs": [
    {
     "name": "stdout",
     "output_type": "stream",
     "text": [
      "✅ Step 4 complete: units converted where applicable\n"
     ]
    }
   ],
   "source": [
    "# --- Step 4: Unit conversion ---\n",
    "\n",
    "# Temperature: Kelvin → Celsius\n",
    "for temp_col in ['d2m', 'skt']:  # match your CSV names\n",
    "    if temp_col in df.columns:\n",
    "        df[temp_col] = df[temp_col] - 273.15\n",
    "\n",
    "# Pressure: Pa → hPa\n",
    "if 'msl' in df.columns:\n",
    "    df['msl'] = df['msl'] / 100\n",
    "\n",
    "print('✅ Step 4 complete: units converted where applicable')\n"
   ]
  },
  {
   "cell_type": "code",
   "execution_count": 5,
   "id": "6f5e024e",
   "metadata": {},
   "outputs": [
    {
     "name": "stdout",
     "output_type": "stream",
     "text": [
      "latitude     0\n",
      "longitude    0\n",
      "t2m          0\n",
      "d2m          0\n",
      "msl          0\n",
      "u10          0\n",
      "v10          0\n",
      "tcc          0\n",
      "skt          0\n",
      "number       0\n",
      "expver       0\n",
      "dtype: int64\n",
      "Step 5 complete: missing values interpolated and remaining NaNs dropped\n",
      "Step 5 complete: missing values interpolated and remaining NaNs dropped\n"
     ]
    }
   ],
   "source": [
    "# --- Step 5: Handle missing values ---\n",
    "# Count missing values\n",
    "print(df.isna().sum())\n",
    "\n",
    "# Interpolate isolated missing hours (time-based)\n",
    "df.interpolate(method='time', limit_direction='both', inplace=True)\n",
    "\n",
    "# Drop any remaining rows with missing values\n",
    "df.dropna(inplace=True)\n",
    "\n",
    "print('Step 5 complete: missing values interpolated and remaining NaNs dropped')\n"
   ]
  },
  {
   "cell_type": "code",
   "execution_count": 6,
   "id": "a83b2f2d",
   "metadata": {},
   "outputs": [
    {
     "name": "stdout",
     "output_type": "stream",
     "text": [
      "Index(['latitude', 'longitude', 't2m', 'd2m', 'msl', 'u10', 'v10', 'tcc',\n",
      "       'skt', 'number', 'expver'],\n",
      "      dtype='object')\n",
      "Out-of-range temperature values removed: 0 values in 't2m' were modified or removed.\n",
      "Out-of-range temperature values removed: 0 values in 'd2m' were modified or removed.\n",
      "Out-of-range temperature values removed: 0 values in 'skt' were modified or removed.\n",
      "Cloud cover clipped (0–1): 0 values adjusted.\n",
      "Wind component 'u10' clipped to ±100 m/s: 0 values adjusted.\n",
      "Wind component 'v10' clipped to ±100 m/s: 0 values adjusted.\n",
      "✅ Step 6 complete: outliers removed/clipped where applicable\n",
      "Cloud cover clipped (0–1): 0 values adjusted.\n",
      "Wind component 'u10' clipped to ±100 m/s: 0 values adjusted.\n",
      "Wind component 'v10' clipped to ±100 m/s: 0 values adjusted.\n",
      "✅ Step 6 complete: outliers removed/clipped where applicable\n"
     ]
    }
   ],
   "source": [
    "# --- Step 6: Remove outliers / sanity checks with reporting ---\n",
    "print(df.columns)\n",
    "def report_changes(df, col, mask, action_desc):\n",
    "    \"\"\"Always report how many values were affected.\"\"\"\n",
    "    n_changed = mask.sum()\n",
    "    print(f\"{action_desc}: {n_changed} values in '{col}' were modified or removed.\")\n",
    "    return n_changed\n",
    "\n",
    "\n",
    "# Temperature sanity range (°C)\n",
    "for temp_col, raw_col in zip(\n",
    "    ['2m_temperature', '2m_dewpoint_temperature', 'skin_temperature'],\n",
    "    ['t2m', 'd2m', 'skt']\n",
    "):\n",
    "    if raw_col in df.columns:\n",
    "        mask = (df[raw_col] < -123.15) | (df[raw_col] > 57.0)\n",
    "        report_changes(df, raw_col, mask, \"Out-of-range temperature values removed\")\n",
    "        df = df[(df[raw_col] >= -123.15) & (df[raw_col] <= 57.0)]\n",
    "\n",
    "# Cloud cover: clip 0–1\n",
    "if 'tcc' in df.columns:\n",
    "    before_clip = df['tcc'].copy()\n",
    "    df['tcc'] = df['tcc'].clip(0, 1)\n",
    "    changed = (before_clip != df['tcc']).sum()\n",
    "    print(f\"Cloud cover clipped (0–1): {changed} values adjusted.\")\n",
    "\n",
    "# Precipitation: cannot be negative\n",
    "if 'tp' in df.columns:\n",
    "    before_clip = df['tp'].copy()\n",
    "    df['tp'] = df['tp'].clip(lower=0)\n",
    "    changed = (before_clip != df['tp']).sum()\n",
    "    print(f\"Precipitation negatives removed: {changed} values adjusted.\")\n",
    "\n",
    "# Wind components: cap ±100 m/s\n",
    "for wind_col in ['u10', 'v10']:\n",
    "    if wind_col in df.columns:\n",
    "        before_clip = df[wind_col].copy()\n",
    "        df[wind_col] = df[wind_col].clip(-100, 100)\n",
    "        changed = (before_clip != df[wind_col]).sum()\n",
    "        print(f\"Wind component '{wind_col}' clipped to ±100 m/s: {changed} values adjusted.\")\n",
    "\n",
    "\n",
    "\n",
    "print(\"✅ Step 6 complete: outliers removed/clipped where applicable\")\n"
   ]
  },
  {
   "cell_type": "code",
   "execution_count": 7,
   "id": "fcdf40f7",
   "metadata": {},
   "outputs": [
    {
     "name": "stdout",
     "output_type": "stream",
     "text": [
      "✅ Cleaned CSV saved as 'era5_cleaned.csv'\n"
     ]
    }
   ],
   "source": [
    "# --- Step 7: Reset index and save cleaned CSV ---\n",
    "df.reset_index(inplace=True)\n",
    "cleaned_path = \"era5_cleaned.csv\"\n",
    "df.to_csv(cleaned_path, index=False)\n",
    "print(f\"✅ Cleaned CSV saved as '{cleaned_path}'\")\n"
   ]
  },
  {
   "cell_type": "code",
   "execution_count": null,
   "id": "5ca08896",
   "metadata": {},
   "outputs": [],
   "source": []
  }
 ],
 "metadata": {
  "kernelspec": {
   "display_name": "Python 3",
   "language": "python",
   "name": "python3"
  },
  "language_info": {
   "codemirror_mode": {
    "name": "ipython",
    "version": 3
   },
   "file_extension": ".py",
   "mimetype": "text/x-python",
   "name": "python",
   "nbconvert_exporter": "python",
   "pygments_lexer": "ipython3",
   "version": "3.13.5"
  }
 },
 "nbformat": 4,
 "nbformat_minor": 5
}
